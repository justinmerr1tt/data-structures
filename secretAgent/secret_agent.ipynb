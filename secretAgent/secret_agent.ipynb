{
 "cells": [
  {
   "cell_type": "code",
   "execution_count": 68,
   "metadata": {},
   "outputs": [
    {
     "name": "stdout",
     "output_type": "stream",
     "text": [
      "[['Adams.John', 0, 0, 1, 1, 0, 0, 0], ['Adams.Samuel', 0, 0, 1, 1, 0, 1, 1], ['Allen.Dr', 0, 0, 1, 0, 0, 0, 0], ['Appleton.Nathaniel', 0, 0, 1, 0, 0, 1, 0], ['Ash.Gilbert', 1, 0, 0, 0, 0, 0, 0], ['Austin.Benjamin', 0, 0, 0, 0, 0, 0, 1], ['Austin.Samuel', 0, 0, 0, 0, 0, 0, 1], ['Avery.John', 0, 1, 0, 0, 0, 0, 1], ['Baldwin.Cyrus', 0, 0, 0, 0, 0, 0, 1], ['Ballard.John', 0, 0, 1, 0, 0, 0, 0], ['Barber.Nathaniel', 0, 0, 1, 0, 1, 1, 1], ['Barnard.Samuel', 0, 0, 0, 0, 1, 0, 0], ['Barrett.Samuel', 1, 0, 0, 0, 0, 0, 1], ['Bass.Henry', 0, 1, 1, 0, 1, 0, 1], ['Bell.William', 1, 0, 0, 0, 0, 0, 0], ['Blake.Increase', 1, 0, 0, 0, 0, 0, 0], ['Boit.John', 0, 0, 1, 0, 0, 0, 0], ['Bolter.Thomas', 0, 0, 0, 0, 1, 0, 0], ['Boyer.Peter', 0, 0, 0, 0, 0, 0, 1], ['Boynton.Richard', 0, 0, 0, 0, 0, 1, 1], ['Brackett.Jos', 0, 0, 0, 0, 0, 0, 1], ['Bradford.John', 0, 0, 0, 0, 0, 1, 1], ['Bradlee.David', 0, 0, 0, 0, 1, 0, 0], ['Bradlee.Josiah', 0, 0, 0, 0, 1, 0, 0], ['Bradlee.Nathaniel', 0, 0, 0, 0, 1, 0, 0], ['Bradlee.Thomas', 0, 0, 0, 0, 1, 0, 0], ['Bray.George', 1, 0, 0, 0, 0, 0, 0], ['Breck.William', 0, 0, 1, 0, 0, 0, 0], ['Bewer.James', 0, 0, 0, 0, 1, 0, 0], ['Brimmer.Herman', 0, 0, 0, 0, 0, 0, 1], ['Brimmer.Martin', 0, 0, 0, 0, 0, 0, 1], ['Broomfield.Henry', 0, 0, 0, 0, 0, 0, 1], ['Brown.Hugh', 1, 0, 0, 0, 0, 0, 0], ['Brown.Enoch', 0, 0, 0, 0, 0, 0, 1], ['Brown.John', 0, 0, 0, 0, 0, 0, 1], ['Bruce.Stephen', 0, 0, 0, 0, 1, 0, 0], ['Burbeck.Edward', 1, 0, 0, 0, 0, 0, 0], ['Burbeck.William', 1, 0, 0, 0, 0, 0, 0], ['Burt.Benjamin', 0, 0, 1, 0, 0, 0, 0], ['Burton.Benjamin', 0, 0, 0, 0, 1, 0, 0], ['Cailleteau.Edward', 1, 0, 0, 0, 0, 0, 0], ['Callendar.Elisha', 1, 0, 0, 0, 0, 0, 0], ['Campbell.Nicholas', 0, 0, 0, 0, 1, 0, 0], ['Cazneau.Capt', 0, 0, 1, 0, 0, 0, 0], ['Chadwell.Mr', 0, 0, 1, 0, 0, 0, 0], ['Champney.Caleb', 0, 0, 1, 0, 0, 0, 0], ['Chase.Thomas', 0, 1, 1, 0, 1, 0, 1], ['Cheever.Ezekiel', 0, 0, 1, 0, 0, 0, 1], ['Chipman.Seth', 1, 0, 0, 0, 0, 0, 0], ['Chrysty.Thomas', 0, 0, 1, 0, 0, 0, 0], ['Church.Benjamin', 0, 0, 1, 1, 0, 1, 1], ['Clarke.Benjamin', 0, 0, 0, 0, 1, 0, 0], ['Cleverly.Stephen', 0, 1, 0, 0, 0, 0, 0], ['Cochran.John', 0, 0, 0, 0, 1, 0, 0], ['Colesworthy.Gilbert', 0, 0, 0, 0, 1, 0, 0], ['Collier.Gershom', 0, 0, 0, 0, 1, 0, 0], ['Collins.Ezra', 1, 0, 0, 0, 0, 0, 0], ['Collson.Adam', 0, 0, 1, 0, 1, 0, 0], ['Condy.JamesFoster', 0, 0, 1, 0, 1, 0, 1], ['Cooper.Samuel', 0, 0, 0, 1, 1, 0, 0], ['Cooper.William', 0, 0, 0, 1, 0, 0, 0], ['Crafts.Thomas', 1, 1, 0, 0, 0, 0, 0], ['Crane.John', 0, 0, 0, 0, 1, 0, 0], ['Davis.Caleb', 0, 0, 0, 0, 0, 1, 1], ['Davis.Edward', 0, 0, 0, 0, 0, 0, 1], ['Davis.Robert', 0, 0, 0, 0, 1, 0, 0], ['Davis.William', 0, 0, 0, 0, 0, 0, 1], ['Dawes.Thomas', 0, 0, 0, 1, 0, 0, 0], ['Dennie.William', 0, 0, 1, 0, 0, 1, 0], ['Deshon.Moses', 1, 0, 0, 0, 0, 0, 0], ['Dexter.Samuel', 0, 0, 0, 1, 0, 0, 0], ['Dolbear.Edward', 0, 0, 0, 0, 1, 0, 0], ['Doyle.Peter', 1, 0, 0, 0, 0, 0, 0], ['Eaton.Joseph', 0, 0, 0, 0, 1, 0, 0], ['Eayres.Joseph', 0, 0, 0, 0, 1, 0, 1], ['Eckley.Unknown', 0, 0, 0, 0, 1, 0, 0], ['Edes.Benjamin', 0, 1, 1, 0, 0, 0, 0], ['Emmes.Samuel', 0, 0, 1, 0, 0, 0, 0], ['Etheridge.William', 0, 0, 0, 0, 1, 0, 0], ['Fenno.Samuel', 0, 0, 0, 0, 1, 0, 0], ['Ferrell.Ambrose', 1, 0, 0, 0, 0, 0, 0], ['Field.Joseph', 0, 1, 0, 0, 0, 0, 0], ['Flagg.Josiah', 1, 0, 0, 0, 0, 0, 0], ['Fleet.Thomas', 0, 0, 0, 1, 0, 0, 0], ['Foster.Bos', 0, 0, 0, 0, 0, 0, 1], ['Foster.Samuel', 0, 0, 0, 0, 1, 0, 0], ['Frothingham.Nathaniel0', 0, 0, 0, 1, 0, 0], ['Gammell.John', 0, 0, 0, 0, 1, 0, 0], ['Gill.Moses', 0, 0, 0, 0, 0, 0, 1], ['Gore.Samuel', 0, 0, 0, 0, 1, 0, 0], ['Gould.William', 1, 0, 0, 0, 0, 0, 0], ['Graham.James', 1, 0, 0, 0, 0, 0, 0], ['Grant.Moses', 0, 0, 1, 0, 1, 0, 1], ['Gray.Wait', 1, 0, 0, 0, 0, 0, 0], ['Greene.Nathaniel', 0, 0, 0, 0, 1, 0, 0], ['Greenleaf.Joseph', 0, 0, 1, 0, 0, 1, 1], ['Greenleaf.William', 0, 0, 0, 0, 0, 1, 1], ['Greenough.Newn', 0, 0, 0, 0, 0, 0, 1], ['Ham.William', 1, 0, 0, 0, 0, 0, 0], ['Hammond.Samuel', 0, 0, 0, 0, 1, 0, 0], ['Hancock.Eben', 0, 0, 0, 0, 0, 0, 1], ['Hancock.John', 0, 0, 0, 1, 0, 0, 1], ['Hendley.William', 0, 0, 0, 0, 1, 0, 0], ['Hewes.George', 0, 0, 0, 0, 1, 0, 0], ['Hickling.William', 0, 0, 1, 0, 0, 0, 0], ['Hicks.John', 0, 0, 0, 0, 1, 0, 0], ['Hill.Alexander', 0, 0, 0, 0, 0, 1, 0], ['Hitchborn.Nathaniel', 1, 0, 0, 0, 0, 0, 0], ['Hitchborn.Thomas', 0, 0, 1, 0, 0, 0, 0], ['Hobbs.Samuel', 0, 0, 0, 0, 1, 0, 0], ['Hoffins.John', 1, 0, 0, 0, 0, 0, 0], ['Holmes.Nathaniel', 0, 0, 1, 0, 0, 0, 0], ['Hooton.John', 0, 0, 0, 0, 1, 0, 0], ['Hopkins.Caleb', 0, 0, 0, 0, 0, 0, 1], ['Hoskins.William', 0, 0, 1, 0, 0, 0, 0], ['Howard.Samuel', 0, 0, 0, 0, 1, 0, 0], ['Howe.Edward', 0, 0, 0, 0, 1, 0, 0], ['Hunnewell.Jonathan', 0, 0, 0, 0, 1, 0, 0], ['Hunnewell.Richard', 0, 0, 0, 0, 1, 0, 0], ['Hunstable.Thomas', 0, 0, 0, 0, 1, 0, 0], ['Hunt.Abraham', 0, 0, 0, 0, 1, 0, 0], ['Ingersoll.Daniel', 0, 0, 0, 0, 1, 0, 0], ['Inglish.Alexander', 1, 0, 0, 0, 0, 0, 0], ['Isaac.Pierce', 0, 0, 0, 0, 0, 0, 1], ['Ivers.James', 0, 0, 0, 0, 0, 0, 1], ['Jarvis.Edward', 1, 0, 0, 0, 0, 0, 0], ['Jarvis.Charles', 0, 0, 0, 0, 0, 0, 1], ['Jefferds.Unknown', 1, 0, 0, 0, 0, 0, 0], ['Jenkins.John', 1, 0, 0, 0, 0, 0, 0], ['Johnston.Eben', 0, 0, 0, 0, 0, 0, 1], ['Johonnott.Gabriel', 0, 0, 1, 0, 0, 0, 0], ['Kent.Benjamin', 0, 0, 1, 0, 0, 0, 0], ['Kerr.Walter', 1, 0, 0, 0, 0, 0, 0], ['Kimball.Thomas', 0, 0, 1, 0, 0, 0, 0], ['Kinnison.David', 0, 0, 0, 0, 1, 0, 0], ['Lambert.John', 0, 0, 0, 1, 0, 0, 0], ['Lee.Joseph', 0, 0, 0, 0, 1, 0, 0], ['Lewis.Phillip', 1, 0, 0, 0, 0, 0, 0], ['Lincoln.Amos', 0, 0, 0, 0, 1, 0, 0], ['Loring.Matthew', 0, 0, 0, 0, 1, 0, 0], ['Lowell.John', 0, 0, 1, 0, 0, 0, 0], ['Machin.Thomas', 0, 0, 0, 0, 1, 0, 0], ['Mackay.William', 0, 0, 0, 0, 0, 1, 0], ['MacKintosh.Capt', 0, 0, 0, 0, 1, 0, 0], ['MacNeil.Archibald', 0, 0, 0, 0, 1, 0, 0], ['Marett.Phillip', 1, 0, 0, 0, 0, 0, 0], ['Marlton.John', 1, 0, 0, 0, 0, 0, 0], ['Marshall.Thomas', 0, 0, 0, 0, 0, 0, 1], ['Marson.John', 0, 0, 0, 0, 0, 0, 1], ['Mason.Jonathan', 0, 0, 0, 0, 0, 0, 1], ['Matchett.John', 0, 0, 1, 0, 0, 0, 0], ['May.John', 0, 0, 0, 0, 1, 0, 0], ['McAlpine.William', 1, 0, 0, 0, 0, 0, 0], ['Melville.Thomas', 0, 0, 0, 0, 1, 0, 0], ['Merrit.John', 0, 0, 1, 0, 0, 0, 0], ['Milliken.Thomas', 1, 0, 0, 0, 0, 0, 0], ['Molineux.William', 0, 0, 1, 0, 1, 1, 0], ['Moody.Samuel', 1, 0, 0, 0, 0, 0, 0], ['Moore.Thomas', 0, 0, 0, 0, 1, 0, 0], ['Morse.Anthony', 0, 0, 0, 0, 1, 0, 0], ['Morton.Perez', 0, 0, 1, 0, 0, 0, 0], ['Mountford.Joseph', 0, 0, 0, 0, 1, 0, 0], ['Newell.Eliphelet', 0, 0, 0, 0, 1, 0, 0], ['Nicholls.Unknown', 1, 0, 0, 0, 0, 0, 0], ['Noyces.Nat', 0, 0, 0, 0, 0, 0, 1], ['Obear.Israel', 1, 0, 0, 0, 0, 0, 0], ['Otis.James', 0, 0, 0, 1, 0, 1, 0], ['Palfrey.William', 1, 0, 0, 0, 0, 0, 0], ['Palmer.Joseph', 0, 0, 0, 0, 1, 0, 0], ['Palms.Richard', 0, 0, 1, 0, 0, 0, 0], ['Parker.Jonathan', 0, 0, 0, 0, 1, 0, 0], ['Parkman.Elias', 0, 0, 1, 0, 0, 0, 1], ['Partridge.Sam', 0, 0, 0, 0, 0, 0, 1], ['Payson.Joseph', 0, 0, 0, 0, 1, 0, 0], ['Pearce.IsaacJun', 0, 0, 1, 0, 0, 0, 0], ['Pearce.Isaac', 0, 0, 1, 0, 0, 0, 0], ['Peck.Samuel', 1, 0, 0, 0, 1, 0, 0], ['Peck.Thomas', 0, 0, 1, 0, 0, 0, 0], ['Peters.John', 0, 0, 0, 0, 1, 0, 0], ['Phillips.John', 1, 0, 0, 0, 0, 0, 0], ['Phillips.Samuel', 0, 0, 0, 1, 0, 0, 0], ['Phillips.William', 0, 0, 0, 0, 0, 0, 1], ['Pierce.William', 0, 0, 0, 0, 1, 0, 0], ['Pierpont.Robert', 0, 0, 0, 0, 0, 1, 0], ['Pitts.John', 0, 0, 0, 0, 0, 0, 1], ['Pitts.Lendall', 0, 0, 0, 0, 1, 0, 0], ['Pitts.Samuel', 0, 0, 0, 0, 0, 0, 1], ['Porter.Thomas', 0, 0, 0, 0, 1, 0, 0], ['Potter.Edward', 1, 0, 0, 0, 0, 0, 0], ['Powell.William', 0, 0, 0, 0, 0, 1, 1], ['Prentiss.Henry', 0, 0, 0, 0, 1, 0, 0], ['Prince.John', 0, 0, 0, 0, 1, 0, 0], ['Prince.Job', 0, 0, 0, 0, 0, 0, 1], ['Proctor.Edward', 0, 0, 1, 0, 1, 0, 1], ['Pulling.John', 0, 0, 1, 0, 0, 0, 1], ['Pulling.Richard', 1, 0, 0, 0, 0, 0, 0], ['Purkitt.Henry', 0, 0, 0, 0, 1, 0, 0], ['Quincy.Josiah', 0, 0, 0, 1, 0, 1, 0], ['Randall.John', 0, 0, 0, 0, 1, 0, 0], ['Revere.Paul', 1, 0, 1, 1, 1, 0, 1], ['Roby.Joseph', 0, 0, 0, 0, 1, 0, 0], ['Roylson.Thomas', 0, 0, 0, 0, 0, 0, 1], ['Ruddock.Abiel', 0, 0, 1, 0, 0, 0, 1], ['Russell.John', 0, 0, 0, 0, 1, 0, 0], ['Russell.William', 0, 0, 0, 0, 1, 0, 0], ['Sessions.Robert', 0, 0, 0, 0, 1, 0, 0], ['Seward.James', 1, 0, 0, 0, 0, 0, 0], ['Sharp.Gibbens', 0, 0, 1, 0, 0, 0, 0], ['Shed.Joseph', 0, 0, 0, 0, 1, 0, 0], ['Sigourney.John', 0, 0, 1, 0, 0, 0, 0], ['Simpson.Benjamin', 0, 0, 0, 0, 1, 0, 0], ['Slater.Peter', 0, 0, 0, 0, 1, 0, 0], ['Sloper.Ambrose', 1, 0, 0, 0, 0, 0, 0], ['Smith.John', 0, 1, 0, 0, 0, 0, 0], ['Spear.Thomas', 0, 0, 0, 0, 1, 0, 0], ['Sprague.Samuel', 0, 0, 0, 0, 1, 0, 0], ['Spurr.John', 0, 0, 0, 0, 1, 0, 0], ['Stanbridge.Henry', 1, 0, 0, 0, 0, 0, 0], ['Starr.James', 0, 0, 0, 0, 1, 0, 0], ['Stearns.Phineas', 0, 0, 0, 0, 1, 0, 0], ['Stevens.Ebenezer', 0, 0, 0, 0, 1, 0, 0], ['Stoddard.Asa', 0, 0, 1, 0, 0, 0, 0], ['Stoddard.Jonathan', 0, 0, 1, 0, 0, 0, 0], ['Story.Elisha', 0, 0, 1, 0, 1, 0, 0], ['Swan.James', 0, 0, 1, 0, 1, 0, 0], ['Sweetser.John', 0, 0, 0, 0, 0, 1, 0], ['Symmes.Eben', 0, 0, 1, 0, 0, 0, 0], ['Symmes.John', 0, 0, 1, 0, 0, 0, 0], ['Tabor.Philip', 1, 0, 0, 0, 0, 0, 0], ['Tileston.Thomas', 0, 0, 1, 0, 0, 0, 0], ['Trott.George', 0, 1, 0, 0, 0, 0, 0], ['Tyler.Royall', 0, 0, 0, 1, 0, 0, 0], ['Urann.Thomas', 1, 0, 1, 0, 1, 0, 0], ['Vernon.Fortesque', 0, 0, 0, 0, 0, 0, 1], ['Waldo.Benjamin', 0, 0, 0, 0, 0, 0, 1], ['Warren.Joseph', 1, 0, 1, 1, 0, 1, 1], ['Webb.Joseph', 1, 0, 0, 0, 0, 0, 0], ['Webster.Thomas', 1, 0, 0, 0, 0, 0, 0], ['Welles.Henry', 1, 1, 0, 0, 0, 0, 0], ['Wendell.Oliver', 0, 0, 0, 0, 0, 1, 1], ['Wheeler.Josiah', 0, 0, 0, 0, 1, 0, 0], ['White.Samuel', 0, 0, 1, 0, 0, 0, 0], ['Whitten.John', 1, 0, 0, 0, 0, 0, 0], ['Whitwell.Samuel', 0, 0, 0, 0, 0, 0, 1], ['Whitwell.William', 0, 0, 0, 0, 0, 0, 1], ['Williams.Jeremiah', 0, 0, 0, 0, 1, 0, 0], ['Williams.Jonathan', 0, 0, 0, 0, 0, 0, 1], ['Williams.Thomas', 0, 0, 0, 0, 1, 0, 0], ['Willis.Nathaniel', 0, 0, 0, 0, 1, 0, 0], ['Wingfield.William', 1, 0, 0, 0, 0, 0, 0], ['Winslow.John', 0, 0, 0, 1, 0, 0, 0], ['Winthrop.John', 0, 0, 1, 0, 0, 0, 1], ['Wyeth.Joshua', 0, 0, 0, 0, 1, 0, 0], ['Young.Thomas', 0, 0, 1, 0, 1, 1, 0]]\n",
      "[['Adams.John', 1], ['Adams.Samuel', 2], ['Allen.Dr', 3], ['Appleton.Nathaniel', 4], ['Ash.Gilbert', 5], ['Austin.Benjamin', 6], ['Austin.Samuel', 7], ['Avery.John', 8], ['Baldwin.Cyrus', 9], ['Ballard.John', 10], ['Barber.Nathaniel', 11], ['Barnard.Samuel', 12], ['Barrett.Samuel', 13], ['Bass.Henry', 14], ['Bell.William', 15], ['Blake.Increase', 16], ['Boit.John', 17], ['Bolter.Thomas', 18], ['Boyer.Peter', 19], ['Boynton.Richard', 20], ['Brackett.Jos', 21], ['Bradford.John', 22], ['Bradlee.David', 23], ['Bradlee.Josiah', 24], ['Bradlee.Nathaniel', 25], ['Bradlee.Thomas', 26], ['Bray.George', 27], ['Breck.William', 28], ['Bewer.James', 29], ['Brimmer.Herman', 30], ['Brimmer.Martin', 31], ['Broomfield.Henry', 32], ['Brown.Hugh', 33], ['Brown.Enoch', 34], ['Brown.John', 35], ['Bruce.Stephen', 36], ['Burbeck.Edward', 37], ['Burbeck.William', 38], ['Burt.Benjamin', 39], ['Burton.Benjamin', 40], ['Cailleteau.Edward', 41], ['Callendar.Elisha', 42], ['Campbell.Nicholas', 43], ['Cazneau.Capt', 44], ['Chadwell.Mr', 45], ['Champney.Caleb', 46], ['Chase.Thomas', 47], ['Cheever.Ezekiel', 48], ['Chipman.Seth', 49], ['Chrysty.Thomas', 50], ['Church.Benjamin', 51], ['Clarke.Benjamin', 52], ['Cleverly.Stephen', 53], ['Cochran.John', 54], ['Colesworthy.Gilbert', 55], ['Collier.Gershom', 56], ['Collins.Ezra', 57], ['Collson.Adam', 58], ['Condy.JamesFoster', 59], ['Cooper.Samuel', 60], ['Cooper.William', 61], ['Crafts.Thomas', 62], ['Crane.John', 63], ['Davis.Caleb', 64], ['Davis.Edward', 65], ['Davis.Robert', 66], ['Davis.William', 67], ['Dawes.Thomas', 68], ['Dennie.William', 69], ['Deshon.Moses', 70], ['Dexter.Samuel', 71], ['Dolbear.Edward', 72], ['Doyle.Peter', 73], ['Eaton.Joseph', 74], ['Eayres.Joseph', 75], ['Eckley.Unknown', 76], ['Edes.Benjamin', 77], ['Emmes.Samuel', 78], ['Etheridge.William', 79], ['Fenno.Samuel', 80], ['Ferrell.Ambrose', 81], ['Field.Joseph', 82], ['Flagg.Josiah', 83], ['Fleet.Thomas', 84], ['Foster.Bos', 85], ['Foster.Samuel', 86], ['Frothingham.Nathaniel0', 87], ['Gammell.John', 88], ['Gill.Moses', 89], ['Gore.Samuel', 90], ['Gould.William', 91], ['Graham.James', 92], ['Grant.Moses', 93], ['Gray.Wait', 94], ['Greene.Nathaniel', 95], ['Greenleaf.Joseph', 96], ['Greenleaf.William', 97], ['Greenough.Newn', 98], ['Ham.William', 99], ['Hammond.Samuel', 100], ['Hancock.Eben', 101], ['Hancock.John', 102], ['Hendley.William', 103], ['Hewes.George', 104], ['Hickling.William', 105], ['Hicks.John', 106], ['Hill.Alexander', 107], ['Hitchborn.Nathaniel', 108], ['Hitchborn.Thomas', 109], ['Hobbs.Samuel', 110], ['Hoffins.John', 111], ['Holmes.Nathaniel', 112], ['Hooton.John', 113], ['Hopkins.Caleb', 114], ['Hoskins.William', 115], ['Howard.Samuel', 116], ['Howe.Edward', 117], ['Hunnewell.Jonathan', 118], ['Hunnewell.Richard', 119], ['Hunstable.Thomas', 120], ['Hunt.Abraham', 121], ['Ingersoll.Daniel', 122], ['Inglish.Alexander', 123], ['Isaac.Pierce', 124], ['Ivers.James', 125], ['Jarvis.Edward', 126], ['Jarvis.Charles', 127], ['Jefferds.Unknown', 128], ['Jenkins.John', 129], ['Johnston.Eben', 130], ['Johonnott.Gabriel', 131], ['Kent.Benjamin', 132], ['Kerr.Walter', 133], ['Kimball.Thomas', 134], ['Kinnison.David', 135], ['Lambert.John', 136], ['Lee.Joseph', 137], ['Lewis.Phillip', 138], ['Lincoln.Amos', 139], ['Loring.Matthew', 140], ['Lowell.John', 141], ['Machin.Thomas', 142], ['Mackay.William', 143], ['MacKintosh.Capt', 144], ['MacNeil.Archibald', 145], ['Marett.Phillip', 146], ['Marlton.John', 147], ['Marshall.Thomas', 148], ['Marson.John', 149], ['Mason.Jonathan', 150], ['Matchett.John', 151], ['May.John', 152], ['McAlpine.William', 153], ['Melville.Thomas', 154], ['Merrit.John', 155], ['Milliken.Thomas', 156], ['Molineux.William', 157], ['Moody.Samuel', 158], ['Moore.Thomas', 159], ['Morse.Anthony', 160], ['Morton.Perez', 161], ['Mountford.Joseph', 162], ['Newell.Eliphelet', 163], ['Nicholls.Unknown', 164], ['Noyces.Nat', 165], ['Obear.Israel', 166], ['Otis.James', 167], ['Palfrey.William', 168], ['Palmer.Joseph', 169], ['Palms.Richard', 170], ['Parker.Jonathan', 171], ['Parkman.Elias', 172], ['Partridge.Sam', 173], ['Payson.Joseph', 174], ['Pearce.IsaacJun', 175], ['Pearce.Isaac', 176], ['Peck.Samuel', 177], ['Peck.Thomas', 178], ['Peters.John', 179], ['Phillips.John', 180], ['Phillips.Samuel', 181], ['Phillips.William', 182], ['Pierce.William', 183], ['Pierpont.Robert', 184], ['Pitts.John', 185], ['Pitts.Lendall', 186], ['Pitts.Samuel', 187], ['Porter.Thomas', 188], ['Potter.Edward', 189], ['Powell.William', 190], ['Prentiss.Henry', 191], ['Prince.John', 192], ['Prince.Job', 193], ['Proctor.Edward', 194], ['Pulling.John', 195], ['Pulling.Richard', 196], ['Purkitt.Henry', 197], ['Quincy.Josiah', 198], ['Randall.John', 199], ['Revere.Paul', 200], ['Roby.Joseph', 201], ['Roylson.Thomas', 202], ['Ruddock.Abiel', 203], ['Russell.John', 204], ['Russell.William', 205], ['Sessions.Robert', 206], ['Seward.James', 207], ['Sharp.Gibbens', 208], ['Shed.Joseph', 209], ['Sigourney.John', 210], ['Simpson.Benjamin', 211], ['Slater.Peter', 212], ['Sloper.Ambrose', 213], ['Smith.John', 214], ['Spear.Thomas', 215], ['Sprague.Samuel', 216], ['Spurr.John', 217], ['Stanbridge.Henry', 218], ['Starr.James', 219], ['Stearns.Phineas', 220], ['Stevens.Ebenezer', 221], ['Stoddard.Asa', 222], ['Stoddard.Jonathan', 223], ['Story.Elisha', 224], ['Swan.James', 225], ['Sweetser.John', 226], ['Symmes.Eben', 227], ['Symmes.John', 228], ['Tabor.Philip', 229], ['Tileston.Thomas', 230], ['Trott.George', 231], ['Tyler.Royall', 232], ['Urann.Thomas', 233], ['Vernon.Fortesque', 234], ['Waldo.Benjamin', 235], ['Warren.Joseph', 236], ['Webb.Joseph', 237], ['Webster.Thomas', 238], ['Welles.Henry', 239], ['Wendell.Oliver', 240], ['Wheeler.Josiah', 241], ['White.Samuel', 242], ['Whitten.John', 243], ['Whitwell.Samuel', 244], ['Whitwell.William', 245], ['Williams.Jeremiah', 246], ['Williams.Jonathan', 247], ['Williams.Thomas', 248], ['Willis.Nathaniel', 249], ['Wingfield.William', 250], ['Winslow.John', 251], ['Winthrop.John', 252], ['Wyeth.Joshua', 253], ['Young.Thomas', 254]]\n",
      "[['StAndrewsLodge', 0], ['LoyalNine', 1], ['NorthCaucus', 2], ['LongRoomClub', 3], ['TeaParty', 4], ['BostonCommittee', 5], ['LondonEnemies', 6]]\n"
     ]
    }
   ],
   "source": [
    "import re\n",
    "import os\n",
    "recorded_input = []\n",
    "agent_id_map = []\n",
    "group_id_map = []\n",
    "\n",
    "## print(os.getcwd()) \n",
    "with open(\"agent_list.txt\",'r') as FILEHANDLE:\n",
    "   x = 0\n",
    "   for line in FILEHANDLE:\n",
    "      if line.strip() != \"StAndrewsLodge LoyalNine NorthCaucus LongRoomClub TeaParty BostonCommittee LondonEnemies\":\n",
    "          recorded_input.append(to_record(line))\n",
    "          agent_id_map.append(name_to_row(line, x))\n",
    "      else:\n",
    "         group_to_col(line)\n",
    "      x += 1\n",
    "\n",
    "print(recorded_input)\n",
    "print(agent_id_map)\n",
    "print(group_id_map)"
   ]
  },
  {
   "cell_type": "code",
   "execution_count": 69,
   "metadata": {},
   "outputs": [],
   "source": [
    "def to_record(line):\n",
    "    parts = line.split()\n",
    "    cur_line = [parts[0]] + [int(x) for x in parts[1:]]\n",
    "    return cur_line\n",
    "\n",
    "def name_to_row(line, curRow):\n",
    "    parts = line.split()\n",
    "    return [parts[0], x]\n",
    "    \n",
    "def group_to_col(line):\n",
    "    parts = line.split()\n",
    "    i = 0\n",
    "    for part in parts:\n",
    "        group_id_map.append([part, i])\n",
    "        i += 1\n",
    "\n",
    "def get_column(list_of_list, col):\n",
    "    return [[row[col]] for row in list_of_list]\n",
    "\n",
    "def transpose(list_of_list):\n",
    "    return [list(row) for row in zip(*matrix)]\n",
    "\n",
    "def inner_product(list1, list2):\n",
    "    return sum(x * y for x, y in zip(list1, list2))\n",
    "    \n",
    "def matrix_multiply(l1, l2):\n",
    "    l2_T = transpose(l2)\n",
    "    return[[inner_product(row_l1, row_l2) for row_l2 in l2_T] for row_l1 in l1]\n",
    "    "
   ]
  }
 ],
 "metadata": {
  "kernelspec": {
   "display_name": "Python 3",
   "language": "python",
   "name": "python3"
  },
  "language_info": {
   "codemirror_mode": {
    "name": "ipython",
    "version": 3
   },
   "file_extension": ".py",
   "mimetype": "text/x-python",
   "name": "python",
   "nbconvert_exporter": "python",
   "pygments_lexer": "ipython3",
   "version": "3.12.0"
  }
 },
 "nbformat": 4,
 "nbformat_minor": 2
}
