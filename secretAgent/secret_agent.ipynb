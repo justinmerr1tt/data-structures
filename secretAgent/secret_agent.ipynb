{
 "cells": [
  {
   "cell_type": "code",
   "execution_count": 79,
   "metadata": {},
   "outputs": [
    {
     "name": "stdout",
     "output_type": "stream",
     "text": [
      "[]\n",
      "[]\n",
      "[]\n",
      "[]\n"
     ]
    }
   ],
   "source": [
    "import re\n",
    "import os\n",
    "recorded_input = []\n",
    "agent_id_map = []\n",
    "group_id_map = []\n",
    "\n",
    "## print(os.getcwd()) \n",
    "with open(\"foo.txt\",'r') as FILEHANDLE:\n",
    "   x = 0\n",
    "   for line in FILEHANDLE:\n",
    "      print(line)\n",
    "      if x != 0:\n",
    "          recorded_input.append(to_record(line))\n",
    "          agent_id_map.append(name_to_row(line, x))\n",
    "      else:\n",
    "         group_to_col(line)\n",
    "      x += 1\n",
    "\n",
    "## taking off string name in i=0\n",
    "print(matrix_multiply(recorded_input, recorded_input))\n",
    "print(recorded_input)\n",
    "print(agent_id_map)\n",
    "print(group_id_map)"
   ]
  },
  {
   "cell_type": "code",
   "execution_count": 57,
   "metadata": {},
   "outputs": [],
   "source": [
    "def to_record(line):\n",
    "    parts = line.split()\n",
    "    cur_line = [int(x) for x in parts[1:]]\n",
    "    return cur_line\n",
    "\n",
    "def name_to_row(line, curRow):\n",
    "    parts = line.split()\n",
    "    return [parts[0], x]\n",
    "    \n",
    "def group_to_col(line):\n",
    "    parts = line.split()\n",
    "    i = 0\n",
    "    for part in parts:\n",
    "        group_id_map.append([part, i])\n",
    "        i += 1\n",
    "\n",
    "def get_column(list_of_list, col):\n",
    "    return [[row[col]] for row in list_of_list]\n",
    "\n",
    "def transpose(list_of_list):\n",
    "    return [list(row) for row in zip(*list_of_list)]\n",
    "\n",
    "def inner_product(list1, list2):\n",
    "    return sum(x * y for x, y in zip(list1, list2))\n",
    "    \n",
    "def matrix_multiply(l1, l2):\n",
    "    l2_T = transpose(l2)\n",
    "    return[[inner_product(row_l1, row_l2) for row_l2 in l2_T] for row_l1 in l1]\n",
    "    "
   ]
  }
 ],
 "metadata": {
  "kernelspec": {
   "display_name": "Python 3",
   "language": "python",
   "name": "python3"
  },
  "language_info": {
   "codemirror_mode": {
    "name": "ipython",
    "version": 3
   },
   "file_extension": ".py",
   "mimetype": "text/x-python",
   "name": "python",
   "nbconvert_exporter": "python",
   "pygments_lexer": "ipython3",
   "version": "3.12.0"
  }
 },
 "nbformat": 4,
 "nbformat_minor": 2
}
