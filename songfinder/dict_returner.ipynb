{
 "cells": [
  {
   "cell_type": "code",
   "execution_count": 49,
   "metadata": {},
   "outputs": [
    {
     "name": "stdout",
     "output_type": "stream",
     "text": [
      "[]\n",
      "0\n"
     ]
    }
   ],
   "source": [
    "dict1 = {'a': 1, 'e': 3}\n",
    "dict2 = {'b': 3, 'd': 5}\n",
    "\n",
    "print(common_values(dict1,dict2))\n",
    "print(sim_dist(dict1,dict2))"
   ]
  },
  {
   "cell_type": "code",
   "execution_count": 48,
   "metadata": {},
   "outputs": [],
   "source": [
    "import string\n",
    "\n",
    "def common_values(dict1, dict2):\n",
    "    return_list = []\n",
    "    for letter in string.ascii_lowercase:\n",
    "        if letter in dict1 and letter in dict2:\n",
    "            return_list.append((dict1[letter], dict2[letter]))\n",
    "    return return_list"
   ]
  },
  {
   "cell_type": "code",
   "execution_count": 47,
   "metadata": {},
   "outputs": [],
   "source": [
    "import string\n",
    "import math\n",
    "\n",
    "def sim_dist(p1_dict, p2_dict):\n",
    "    d_squared = 0\n",
    "    count_common = 0\n",
    "    for letter in string.ascii_lowercase:\n",
    "        if letter in p1_dict and letter in p2_dict:\n",
    "            count_common += 1\n",
    "            d_squared += (p1_dict[letter] - p2_dict[letter])**2\n",
    "\n",
    "    if count_common == 0:\n",
    "        return 0\n",
    "    return 1/ (math.sqrt(d_squared)+1)"
   ]
  }
 ],
 "metadata": {
  "kernelspec": {
   "display_name": "Python 3",
   "language": "python",
   "name": "python3"
  },
  "language_info": {
   "codemirror_mode": {
    "name": "ipython",
    "version": 3
   },
   "file_extension": ".py",
   "mimetype": "text/x-python",
   "name": "python",
   "nbconvert_exporter": "python",
   "pygments_lexer": "ipython3",
   "version": "3.11.9"
  }
 },
 "nbformat": 4,
 "nbformat_minor": 2
}
