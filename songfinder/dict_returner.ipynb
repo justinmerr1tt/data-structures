{
 "cells": [
  {
   "cell_type": "code",
   "execution_count": 4,
   "metadata": {},
   "outputs": [
    {
     "name": "stdout",
     "output_type": "stream",
     "text": [
      "[]\n",
      "0\n"
     ]
    }
   ],
   "source": [
    "dict1 = {'a': 1, 'e': 3}\n",
    "dict2 = {'b': 3, 'd': 5}\n",
    "\n",
    "print(common_values(dict1,dict2))\n",
    "print(sim_dist(dict1,dict2))"
   ]
  },
  {
   "cell_type": "code",
   "execution_count": 21,
   "metadata": {},
   "outputs": [],
   "source": [
    "import re\n",
    "\n",
    "#x = re.findall()"
   ]
  },
  {
   "cell_type": "code",
   "execution_count": 58,
   "metadata": {},
   "outputs": [],
   "source": [
    "data = []\n",
    "data_file = '050224_song.csv'\n",
    "\n",
    "song_names = []\n",
    "column_headers = []\n",
    "db = {}\n",
    "\n",
    "with open(data_file) as F:\n",
    "    for i, line in enumerate(F):\n",
    "\n",
    "        result = re.findall(\"([^,]+|,,)\", line)\n",
    "        result = [x.strip() for x in result]\n",
    "\n",
    "        # handle header\n",
    "        if i == 0:\n",
    "            column_headers = result\n",
    "            song_names = column_headers[1:]\n",
    "            continue\n",
    "\n",
    "        # handle data\n",
    "        # create dict for new user\n",
    "        db[ result[0] ] = {}\n",
    "\n",
    "        for i, rating in enumerate(result[1:]):\n",
    "            if rating not in [',,','']:\n",
    "                song = song_names[i]\n",
    "                # input user rating for cur song \n",
    "                db[ result[0] ][ song ] = float(rating)"
   ]
  },
  {
   "cell_type": "code",
   "execution_count": 64,
   "metadata": {},
   "outputs": [
    {
     "name": "stdout",
     "output_type": "stream",
     "text": [
      "[]\n",
      "{'a$ap forever': 5.0, 'produk 29': 2.5, 'roygbiv': 3.3, 'semena mertvykh': 0.1, 'ballad of a thin man': 3.5, 'holding out for a hero': 5.0, 'badlands': 3.0, 'our last summer': 4.0, 'get lucky': 5.0, 'really love': 3.8, 'jolene': 4.7, 'nice for what': 5.0, 'sacrifices': 3.4, 'the last resort': 3.5, \"gimme hope jo'anna\": 5.0, 'on & on': 3.0, 'ecstasy': 4.2, 'water no get enemy': 3.6, 'careless whisper': 3.5, 'i will survive': 5.0, 'upside down': 3.7, 'bad romance': 4.5, 'the scoop on heaven': 4.0, 'sonnerie de ste. genevieve du mont de paris': 2.0, 'the urban theme': 4.0, 'billie jean': 5.0, 'chicago': 4.2, 'champion requiem': 3.8, 'ex-factor': 3.4, 'i gotta find peace of mind': 2.9, 'have a cigar': 3.0, 'the blues it began in africa': 4.0, 'little wing': 2.0, 'the adults are talking': 3.0, 'santeria': 4.0, 'posthumous forgiveness': 3.0, 'my eyes': 4.0, 'popular': 2.0, 'i feel it coming': 5.0, 'ligiero': 3.0, 'dont stop the rock': 5.0, 'Father and Son': 2.0, 'miami-will smith': 5.0, 'Danza kuduro': 5.0, 'Elephant': 3.0, 'Walkin Naked Through A Blue Bell Field': 5.0, 'One of my Turns': 5.0}\n"
     ]
    }
   ],
   "source": [
    "print(common_values(db['abuck25'],db['abuck25']))\n",
    "sim_dist(db['abuck25'],db['bmayer24'])\n",
    "print(db['abuck25'])"
   ]
  },
  {
   "cell_type": "code",
   "execution_count": 51,
   "metadata": {},
   "outputs": [],
   "source": [
    "import string\n",
    "\n",
    "def common_values(dict1, dict2):\n",
    "    return_list = []\n",
    "    for letter in string.ascii_lowercase:\n",
    "        if letter in dict1 and letter in dict2:\n",
    "            return_list.append((dict1[letter], dict2[letter]))\n",
    "    return return_list"
   ]
  },
  {
   "cell_type": "code",
   "execution_count": 52,
   "metadata": {},
   "outputs": [],
   "source": [
    "import string\n",
    "import math\n",
    "\n",
    "def sim_dist(p1_dict, p2_dict):\n",
    "    d_squared = 0\n",
    "    count_common = 0\n",
    "    for letter in string.ascii_lowercase:\n",
    "        if letter in p1_dict and letter in p2_dict:\n",
    "            count_common += 1\n",
    "            d_squared += (p1_dict[letter] - p2_dict[letter])**2\n",
    "\n",
    "    if count_common == 0:\n",
    "        return 0\n",
    "    return 1/ (math.sqrt(d_squared)+1)"
   ]
  }
 ],
 "metadata": {
  "kernelspec": {
   "display_name": "Python 3",
   "language": "python",
   "name": "python3"
  },
  "language_info": {
   "codemirror_mode": {
    "name": "ipython",
    "version": 3
   },
   "file_extension": ".py",
   "mimetype": "text/x-python",
   "name": "python",
   "nbconvert_exporter": "python",
   "pygments_lexer": "ipython3",
   "version": "3.11.9"
  }
 },
 "nbformat": 4,
 "nbformat_minor": 2
}
