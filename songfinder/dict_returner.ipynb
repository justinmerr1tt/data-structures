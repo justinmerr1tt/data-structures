{
 "cells": [
  {
   "cell_type": "code",
   "execution_count": 83,
   "metadata": {},
   "outputs": [
    {
     "name": "stdout",
     "output_type": "stream",
     "text": [
      "[]\n",
      "0\n"
     ]
    }
   ],
   "source": [
    "dict1 = {'a': 1, 'e': 3}\n",
    "dict2 = {'b': 3, 'd': 5}\n",
    "\n",
    "print(common_values(dict1,dict2))\n",
    "print(sim_dist(dict1,dict2))"
   ]
  },
  {
   "cell_type": "code",
   "execution_count": 84,
   "metadata": {},
   "outputs": [],
   "source": [
    "import re\n",
    "\n",
    "#x = re.findall()"
   ]
  },
  {
   "cell_type": "code",
   "execution_count": 85,
   "metadata": {},
   "outputs": [
    {
     "ename": "ValueError",
     "evalue": "could not convert string to float: 'First Person Shooter'",
     "output_type": "error",
     "traceback": [
      "\u001b[1;31m---------------------------------------------------------------------------\u001b[0m",
      "\u001b[1;31mValueError\u001b[0m                                Traceback (most recent call last)",
      "Cell \u001b[1;32mIn[85], line 30\u001b[0m\n\u001b[0;32m     28\u001b[0m song \u001b[38;5;241m=\u001b[39m song_names[i]\n\u001b[0;32m     29\u001b[0m \u001b[38;5;66;03m# input user rating for cur song \u001b[39;00m\n\u001b[1;32m---> 30\u001b[0m db[ result[\u001b[38;5;241m0\u001b[39m] ][ song ] \u001b[38;5;241m=\u001b[39m \u001b[38;5;28;43mfloat\u001b[39;49m\u001b[43m(\u001b[49m\u001b[43mrating\u001b[49m\u001b[43m)\u001b[49m\n",
      "\u001b[1;31mValueError\u001b[0m: could not convert string to float: 'First Person Shooter'"
     ]
    }
   ],
   "source": [
    "data = []\n",
    "## data_file = '050224_song.csv'\n",
    "data_file = 'drakelamar.csv'\n",
    "\n",
    "song_names = []\n",
    "column_headers = []\n",
    "db = {}\n",
    "\n",
    "# parse regular song db\n",
    "\n",
    "with open(data_file) as F:\n",
    "    for i, line in enumerate(F):\n",
    "\n",
    "        result = parse_line(line)\n",
    "\n",
    "        # handle header\n",
    "        if i == 0:\n",
    "            column_headers = result\n",
    "            song_names = column_headers[1:]\n",
    "            continue\n",
    "\n",
    "        # handle data\n",
    "        # create dict for new user\n",
    "        db[ result[0] ] = {}\n",
    "\n",
    "        for i, rating in enumerate(result[1:]):\n",
    "            if rating not in [',,','']:\n",
    "                song = song_names[i]\n",
    "                # input user rating for cur song \n",
    "                db[ result[0] ][ song ] = float(rating)"
   ]
  },
  {
   "cell_type": "code",
   "execution_count": null,
   "metadata": {},
   "outputs": [],
   "source": [
    "# parse drake lamar data -- 2 header lines\n",
    "\n",
    "data = []\n",
    "## data_file = '050224_song.csv'\n",
    "data_file = 'drakelamar.csv'\n",
    "\n",
    "song_names = []\n",
    "column_headers = []\n",
    "db = {}\n",
    "\n",
    "with open(data_file) as F:\n",
    "    for i, line in enumerate(F):\n",
    "\n",
    "        result = parse_line(line)\n",
    "\n",
    "        # handle header 1st header row -- song ids\n",
    "        if i == 0:\n",
    "            # skipping index 0 because 0 is user_id column\n",
    "            column_headers = result\n",
    "            song_names = column_headers[1:]\n",
    "            continue\n",
    "\n",
    "        # handle second header -- song_names\n",
    "        if i == 1:\n",
    "            # skipping index 0 because 0 is user_id column\n",
    "            song_names = result[1:]\n",
    "            continue\n",
    "\n",
    "        # handle data\n",
    "        # create dict for new user\n",
    "        db[ result[0] ] = {}\n",
    "\n",
    "        for i, rating in enumerate(result[1:]):\n",
    "            if rating not in [',,','']:\n",
    "                song = song_names[i]\n",
    "                # input user rating for cur song \n",
    "                db[ result[0] ][ song ] = float(rating)"
   ]
  },
  {
   "cell_type": "code",
   "execution_count": null,
   "metadata": {},
   "outputs": [],
   "source": [
    "# list(db.items())[1]\n",
    "# db.keyes\n",
    "\n",
    "jmerritt = db['jmerritt25']\n",
    "abuck = db['abuck25']\n",
    "jhung = db['jhung25']\n",
    "rspell = db['rspell']\n",
    "\n",
    "all_of_us = [jmerritt, abuck, jhung, rspell]\n",
    "sim_result = []\n",
    "users = list(db.keys())\n",
    "\n",
    "for person1 in users:\n",
    "    for person2 in users:\n",
    "        if person1 == person2:\n",
    "            continue\n",
    "        sim = sim_dist(db[person1],db[person2])\n",
    "\n",
    "        sim_result.append( (person1, person2, sim) )\n",
    "\n",
    "\n",
    "# sim_dist(jmerritt,abuck)\n"
   ]
  },
  {
   "cell_type": "code",
   "execution_count": null,
   "metadata": {},
   "outputs": [
    {
     "data": {
      "text/plain": [
       "[('rspell', 'abuck25', 0.2228245414526697),\n",
       " ('rspell', 'jmerritt25', 0.2496363003158466),\n",
       " ('rspell', 'jhung25', 0.3176362671906178),\n",
       " ('abuck25', 'rspell', 0.2228245414526697),\n",
       " ('abuck25', 'jmerritt25', 0.39581485131381566),\n",
       " ('abuck25', 'jhung25', 0.2959389379128892),\n",
       " ('jmerritt25', 'rspell', 0.2496363003158466),\n",
       " ('jmerritt25', 'abuck25', 0.39581485131381566),\n",
       " ('jmerritt25', 'jhung25', 0.2935786812323994),\n",
       " ('jhung25', 'rspell', 0.3176362671906178),\n",
       " ('jhung25', 'abuck25', 0.2959389379128892),\n",
       " ('jhung25', 'jmerritt25', 0.2935786812323994)]"
      ]
     },
     "execution_count": 78,
     "metadata": {},
     "output_type": "execute_result"
    }
   ],
   "source": [
    "sim_result"
   ]
  },
  {
   "cell_type": "code",
   "execution_count": null,
   "metadata": {},
   "outputs": [],
   "source": [
    "def parse_line(aLine):\n",
    "    \"\"\" parse lines from our song db \"\"\"\n",
    "    result = re.findall(\"([^,]+|,,)\", line)\n",
    "    result = [x.strip() for x in result]\n",
    "\n",
    "    return result"
   ]
  },
  {
   "cell_type": "code",
   "execution_count": null,
   "metadata": {},
   "outputs": [],
   "source": [
    "import string\n",
    "\n",
    "def common_values(a, b):\n",
    "    keys1 = set(a.keys())\n",
    "    keys2 = set(b.keys())\n",
    "    shared = keys1.intersection(keys2)\n",
    "\n",
    "    return [ (a[x], b[x]) for x in shared]"
   ]
  },
  {
   "cell_type": "code",
   "execution_count": null,
   "metadata": {},
   "outputs": [],
   "source": []
  },
  {
   "cell_type": "code",
   "execution_count": null,
   "metadata": {},
   "outputs": [],
   "source": [
    "import string\n",
    "import math\n",
    "from math import sqrt\n",
    "\n",
    "# expects two dictionaries with overlapping keys\n",
    "\n",
    "def sim_dist(p1_dict, p2_dict):\n",
    "    values = common_values(p1_dict, p2_dict)\n",
    "\n",
    "    if len(values) == 0:\n",
    "        return 0\n",
    "    result = [ pow(x-y, 2) for x,y in values ]\n",
    "    return 1/ (1 + sqrt(sum(result)) )"
   ]
  },
  {
   "cell_type": "code",
   "execution_count": null,
   "metadata": {},
   "outputs": [
    {
     "name": "stdout",
     "output_type": "stream",
     "text": [
      "{'dj0': 'First Person Shooter', 'k0': 'Like That', 'j0': '7 Minute Drill', 'd0': 'Push Ups', 'd1': 'Taylor Made Freestyle', 'k1': 'Euphoria', 'k2': '6:16 in LA', 'd2': 'Family Matters', 'k3': 'Meet the Grahams', 'k4': 'Not Like Us', 'd3': 'The Heart Part 6'}\n",
      "{'rspell': [3.5, 1.5, 2.0, 3.5, 4.0, 5.0, 3.0, 3.75, 4.5, 5.0, 4.75], 'abuck25': [3.0, 3.5, 3.7, 3.3, 4.1, 4.2, 4.5, 2.5, 4.4, 4.7, 4.1], 'jmerritt25': [3.5, 3.5, 3.0, 3.0, 3.2, 4.5, 3.8, 2.6, 4.4, 4.4, 4.0], 'jhung25': [2.1, 2.3, 2.8, 3.7, 3.6, 4.3, 3.7, 3.5, 4.2, 4.8, 4.8]}\n"
     ]
    }
   ],
   "source": [
    "import re\n",
    "\n",
    "data_file = \"drakelamar.csv\"\n",
    "def parse_csv_line(line):\n",
    "    result = re.findall(\"([^,]+|,,)\",data)\n",
    "    result = [ s.strip() for s in result]\n",
    "    return result\n",
    "\n",
    "with open(data_file) as F:\n",
    "    temp_song_ids = []\n",
    "    temp_song_names = []\n",
    "    ratings_db = {}\n",
    "    for line, data in enumerate(F):\n",
    "        # line 1 header\n",
    "        if line == 0:\n",
    "            result = parse_csv_line(line)\n",
    "            temp_song_ids = result[1:]\n",
    "            continue\n",
    "\n",
    "        # line 2 header\n",
    "        if line == 1:\n",
    "            result = parse_csv_line(line)\n",
    "            temp_song_names = result[1:]\n",
    "            # now we can build dict\n",
    "            song_name_db = {id:song for id,song in zip(temp_song_ids, temp_song_names)}\n",
    "            continue\n",
    "\n",
    "        # rest of data\n",
    "        result = parse_csv_line(line)\n",
    "        rater = result[0]\n",
    "        ratings = result[1:]\n",
    "        ratings = [ float(r) for r in ratings]\n",
    "\n",
    "        ratings_db[rater] = ratings\n",
    "\n",
    "\n",
    "    print(song_name_db)\n",
    "    print(ratings_db)"
   ]
  }
 ],
 "metadata": {
  "kernelspec": {
   "display_name": "Python 3",
   "language": "python",
   "name": "python3"
  },
  "language_info": {
   "codemirror_mode": {
    "name": "ipython",
    "version": 3
   },
   "file_extension": ".py",
   "mimetype": "text/x-python",
   "name": "python",
   "nbconvert_exporter": "python",
   "pygments_lexer": "ipython3",
   "version": "3.11.9"
  }
 },
 "nbformat": 4,
 "nbformat_minor": 2
}
